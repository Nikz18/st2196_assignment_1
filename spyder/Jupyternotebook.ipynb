{
 "cells": [
  {
   "cell_type": "code",
   "execution_count": 2,
   "id": "57b7a593",
   "metadata": {},
   "outputs": [
    {
     "name": "stdout",
     "output_type": "stream",
     "text": [
      "Markdown is a markup language that consists of a set of rules for adding formatting elements.\n"
     ]
    }
   ],
   "source": [
    "print(\"Markdown is a markup language that consists of a set of rules for adding formatting elements.\")\n"
   ]
  },
  {
   "cell_type": "code",
   "execution_count": 5,
   "id": "2944b012",
   "metadata": {},
   "outputs": [
    {
     "name": "stdout",
     "output_type": "stream",
     "text": [
      "The for code expressed in python and R script are different, where the for code in R script need to pre-determind the integers beforehand but the for code in spyder can be expressed with the command. \n"
     ]
    }
   ],
   "source": [
    "print(\"The for code expressed in python and R script are different, where the for code in R script need to pre-determind the integers beforehand but the for code in spyder can be expressed with the command. \")"
   ]
  },
  {
   "cell_type": "code",
   "execution_count": null,
   "id": "89e2ab26",
   "metadata": {},
   "outputs": [],
   "source": []
  }
 ],
 "metadata": {
  "kernelspec": {
   "display_name": "Python 3 (ipykernel)",
   "language": "python",
   "name": "python3"
  },
  "language_info": {
   "codemirror_mode": {
    "name": "ipython",
    "version": 3
   },
   "file_extension": ".py",
   "mimetype": "text/x-python",
   "name": "python",
   "nbconvert_exporter": "python",
   "pygments_lexer": "ipython3",
   "version": "3.9.12"
  }
 },
 "nbformat": 4,
 "nbformat_minor": 5
}
